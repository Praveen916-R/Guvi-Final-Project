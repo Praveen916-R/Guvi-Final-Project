{
  "nbformat": 4,
  "nbformat_minor": 0,
  "metadata": {
    "colab": {
      "provenance": []
    },
    "kernelspec": {
      "name": "python3",
      "display_name": "Python 3"
    },
    "language_info": {
      "name": "python"
    }
  },
  "cells": [
    {
      "cell_type": "code",
      "execution_count": 27,
      "metadata": {
        "id": "sC8KBqZUgpX7"
      },
      "outputs": [],
      "source": [
        "# import important libraries\n",
        "import pandas as pd\n",
        "import numpy as np\n",
        "import seaborn as sns \n",
        "import matplotlib.pyplot as plt\n",
        "%matplotlib inline"
      ]
    },
    {
      "cell_type": "code",
      "source": [
        "# import warnings for ignore warnings\n",
        "import warnings\n",
        "warnings.filterwarnings(\"ignore\")  \n"
      ],
      "metadata": {
        "id": "fYfuUWEjhj4X"
      },
      "execution_count": 28,
      "outputs": []
    },
    {
      "cell_type": "code",
      "source": [
        "pd.set_option('display.max_columns', None)"
      ],
      "metadata": {
        "id": "4tskZ0suhjgj"
      },
      "execution_count": 29,
      "outputs": []
    },
    {
      "cell_type": "code",
      "source": [
        "df=pd.read_csv(\"train (2).csv\")"
      ],
      "metadata": {
        "id": "hd1BxBORhrFl"
      },
      "execution_count": 30,
      "outputs": []
    },
    {
      "cell_type": "code",
      "source": [
        "df"
      ],
      "metadata": {
        "colab": {
          "base_uri": "https://localhost:8080/",
          "height": 468
        },
        "id": "_JB6gBILhq_J",
        "outputId": "455bfe39-abc0-4fa1-86ed-4a812d1ef5e1"
      },
      "execution_count": 31,
      "outputs": [
        {
          "output_type": "execute_result",
          "data": {
            "text/plain": [
              "       age           job  marital education_qual  call_type  day  mon   dur  \\\n",
              "0       58    management  married       tertiary    unknown    5  may   261   \n",
              "1       44    technician   single      secondary    unknown    5  may   151   \n",
              "2       33  entrepreneur  married      secondary    unknown    5  may    76   \n",
              "3       47   blue-collar  married        unknown    unknown    5  may    92   \n",
              "4       33       unknown   single        unknown    unknown    5  may   198   \n",
              "...    ...           ...      ...            ...        ...  ...  ...   ...   \n",
              "16493   47   blue-collar  married      secondary  telephone   23  jul   329   \n",
              "16494   42   blue-collar  married        unknown  telephone   23  jul   329   \n",
              "16495   37  entrepreneur  married        unknown   cellular   23  jul   609   \n",
              "16496   56       retired  married        primary   cellular   23  jul   652   \n",
              "16497   36        admin.  married      secondary   cellular   23  jul  1201   \n",
              "\n",
              "       num_calls prev_outcome    y  \n",
              "0              1      unknown   no  \n",
              "1              1      unknown   no  \n",
              "2              1      unknown   no  \n",
              "3              1      unknown   no  \n",
              "4              1      unknown   no  \n",
              "...          ...          ...  ...  \n",
              "16493          3      unknown   no  \n",
              "16494          3      unknown   no  \n",
              "16495          2      unknown   no  \n",
              "16496          2      unknown   no  \n",
              "16497          6      unknown  yes  \n",
              "\n",
              "[16498 rows x 11 columns]"
            ],
            "text/html": [
              "\n",
              "  <div id=\"df-1b144e71-1b38-436e-b6fc-78d3c2e85cd6\">\n",
              "    <div class=\"colab-df-container\">\n",
              "      <div>\n",
              "<style scoped>\n",
              "    .dataframe tbody tr th:only-of-type {\n",
              "        vertical-align: middle;\n",
              "    }\n",
              "\n",
              "    .dataframe tbody tr th {\n",
              "        vertical-align: top;\n",
              "    }\n",
              "\n",
              "    .dataframe thead th {\n",
              "        text-align: right;\n",
              "    }\n",
              "</style>\n",
              "<table border=\"1\" class=\"dataframe\">\n",
              "  <thead>\n",
              "    <tr style=\"text-align: right;\">\n",
              "      <th></th>\n",
              "      <th>age</th>\n",
              "      <th>job</th>\n",
              "      <th>marital</th>\n",
              "      <th>education_qual</th>\n",
              "      <th>call_type</th>\n",
              "      <th>day</th>\n",
              "      <th>mon</th>\n",
              "      <th>dur</th>\n",
              "      <th>num_calls</th>\n",
              "      <th>prev_outcome</th>\n",
              "      <th>y</th>\n",
              "    </tr>\n",
              "  </thead>\n",
              "  <tbody>\n",
              "    <tr>\n",
              "      <th>0</th>\n",
              "      <td>58</td>\n",
              "      <td>management</td>\n",
              "      <td>married</td>\n",
              "      <td>tertiary</td>\n",
              "      <td>unknown</td>\n",
              "      <td>5</td>\n",
              "      <td>may</td>\n",
              "      <td>261</td>\n",
              "      <td>1</td>\n",
              "      <td>unknown</td>\n",
              "      <td>no</td>\n",
              "    </tr>\n",
              "    <tr>\n",
              "      <th>1</th>\n",
              "      <td>44</td>\n",
              "      <td>technician</td>\n",
              "      <td>single</td>\n",
              "      <td>secondary</td>\n",
              "      <td>unknown</td>\n",
              "      <td>5</td>\n",
              "      <td>may</td>\n",
              "      <td>151</td>\n",
              "      <td>1</td>\n",
              "      <td>unknown</td>\n",
              "      <td>no</td>\n",
              "    </tr>\n",
              "    <tr>\n",
              "      <th>2</th>\n",
              "      <td>33</td>\n",
              "      <td>entrepreneur</td>\n",
              "      <td>married</td>\n",
              "      <td>secondary</td>\n",
              "      <td>unknown</td>\n",
              "      <td>5</td>\n",
              "      <td>may</td>\n",
              "      <td>76</td>\n",
              "      <td>1</td>\n",
              "      <td>unknown</td>\n",
              "      <td>no</td>\n",
              "    </tr>\n",
              "    <tr>\n",
              "      <th>3</th>\n",
              "      <td>47</td>\n",
              "      <td>blue-collar</td>\n",
              "      <td>married</td>\n",
              "      <td>unknown</td>\n",
              "      <td>unknown</td>\n",
              "      <td>5</td>\n",
              "      <td>may</td>\n",
              "      <td>92</td>\n",
              "      <td>1</td>\n",
              "      <td>unknown</td>\n",
              "      <td>no</td>\n",
              "    </tr>\n",
              "    <tr>\n",
              "      <th>4</th>\n",
              "      <td>33</td>\n",
              "      <td>unknown</td>\n",
              "      <td>single</td>\n",
              "      <td>unknown</td>\n",
              "      <td>unknown</td>\n",
              "      <td>5</td>\n",
              "      <td>may</td>\n",
              "      <td>198</td>\n",
              "      <td>1</td>\n",
              "      <td>unknown</td>\n",
              "      <td>no</td>\n",
              "    </tr>\n",
              "    <tr>\n",
              "      <th>...</th>\n",
              "      <td>...</td>\n",
              "      <td>...</td>\n",
              "      <td>...</td>\n",
              "      <td>...</td>\n",
              "      <td>...</td>\n",
              "      <td>...</td>\n",
              "      <td>...</td>\n",
              "      <td>...</td>\n",
              "      <td>...</td>\n",
              "      <td>...</td>\n",
              "      <td>...</td>\n",
              "    </tr>\n",
              "    <tr>\n",
              "      <th>16493</th>\n",
              "      <td>47</td>\n",
              "      <td>blue-collar</td>\n",
              "      <td>married</td>\n",
              "      <td>secondary</td>\n",
              "      <td>telephone</td>\n",
              "      <td>23</td>\n",
              "      <td>jul</td>\n",
              "      <td>329</td>\n",
              "      <td>3</td>\n",
              "      <td>unknown</td>\n",
              "      <td>no</td>\n",
              "    </tr>\n",
              "    <tr>\n",
              "      <th>16494</th>\n",
              "      <td>42</td>\n",
              "      <td>blue-collar</td>\n",
              "      <td>married</td>\n",
              "      <td>unknown</td>\n",
              "      <td>telephone</td>\n",
              "      <td>23</td>\n",
              "      <td>jul</td>\n",
              "      <td>329</td>\n",
              "      <td>3</td>\n",
              "      <td>unknown</td>\n",
              "      <td>no</td>\n",
              "    </tr>\n",
              "    <tr>\n",
              "      <th>16495</th>\n",
              "      <td>37</td>\n",
              "      <td>entrepreneur</td>\n",
              "      <td>married</td>\n",
              "      <td>unknown</td>\n",
              "      <td>cellular</td>\n",
              "      <td>23</td>\n",
              "      <td>jul</td>\n",
              "      <td>609</td>\n",
              "      <td>2</td>\n",
              "      <td>unknown</td>\n",
              "      <td>no</td>\n",
              "    </tr>\n",
              "    <tr>\n",
              "      <th>16496</th>\n",
              "      <td>56</td>\n",
              "      <td>retired</td>\n",
              "      <td>married</td>\n",
              "      <td>primary</td>\n",
              "      <td>cellular</td>\n",
              "      <td>23</td>\n",
              "      <td>jul</td>\n",
              "      <td>652</td>\n",
              "      <td>2</td>\n",
              "      <td>unknown</td>\n",
              "      <td>no</td>\n",
              "    </tr>\n",
              "    <tr>\n",
              "      <th>16497</th>\n",
              "      <td>36</td>\n",
              "      <td>admin.</td>\n",
              "      <td>married</td>\n",
              "      <td>secondary</td>\n",
              "      <td>cellular</td>\n",
              "      <td>23</td>\n",
              "      <td>jul</td>\n",
              "      <td>1201</td>\n",
              "      <td>6</td>\n",
              "      <td>unknown</td>\n",
              "      <td>yes</td>\n",
              "    </tr>\n",
              "  </tbody>\n",
              "</table>\n",
              "<p>16498 rows × 11 columns</p>\n",
              "</div>\n",
              "      <button class=\"colab-df-convert\" onclick=\"convertToInteractive('df-1b144e71-1b38-436e-b6fc-78d3c2e85cd6')\"\n",
              "              title=\"Convert this dataframe to an interactive table.\"\n",
              "              style=\"display:none;\">\n",
              "        \n",
              "  <svg xmlns=\"http://www.w3.org/2000/svg\" height=\"24px\"viewBox=\"0 0 24 24\"\n",
              "       width=\"24px\">\n",
              "    <path d=\"M0 0h24v24H0V0z\" fill=\"none\"/>\n",
              "    <path d=\"M18.56 5.44l.94 2.06.94-2.06 2.06-.94-2.06-.94-.94-2.06-.94 2.06-2.06.94zm-11 1L8.5 8.5l.94-2.06 2.06-.94-2.06-.94L8.5 2.5l-.94 2.06-2.06.94zm10 10l.94 2.06.94-2.06 2.06-.94-2.06-.94-.94-2.06-.94 2.06-2.06.94z\"/><path d=\"M17.41 7.96l-1.37-1.37c-.4-.4-.92-.59-1.43-.59-.52 0-1.04.2-1.43.59L10.3 9.45l-7.72 7.72c-.78.78-.78 2.05 0 2.83L4 21.41c.39.39.9.59 1.41.59.51 0 1.02-.2 1.41-.59l7.78-7.78 2.81-2.81c.8-.78.8-2.07 0-2.86zM5.41 20L4 18.59l7.72-7.72 1.47 1.35L5.41 20z\"/>\n",
              "  </svg>\n",
              "      </button>\n",
              "      \n",
              "  <style>\n",
              "    .colab-df-container {\n",
              "      display:flex;\n",
              "      flex-wrap:wrap;\n",
              "      gap: 12px;\n",
              "    }\n",
              "\n",
              "    .colab-df-convert {\n",
              "      background-color: #E8F0FE;\n",
              "      border: none;\n",
              "      border-radius: 50%;\n",
              "      cursor: pointer;\n",
              "      display: none;\n",
              "      fill: #1967D2;\n",
              "      height: 32px;\n",
              "      padding: 0 0 0 0;\n",
              "      width: 32px;\n",
              "    }\n",
              "\n",
              "    .colab-df-convert:hover {\n",
              "      background-color: #E2EBFA;\n",
              "      box-shadow: 0px 1px 2px rgba(60, 64, 67, 0.3), 0px 1px 3px 1px rgba(60, 64, 67, 0.15);\n",
              "      fill: #174EA6;\n",
              "    }\n",
              "\n",
              "    [theme=dark] .colab-df-convert {\n",
              "      background-color: #3B4455;\n",
              "      fill: #D2E3FC;\n",
              "    }\n",
              "\n",
              "    [theme=dark] .colab-df-convert:hover {\n",
              "      background-color: #434B5C;\n",
              "      box-shadow: 0px 1px 3px 1px rgba(0, 0, 0, 0.15);\n",
              "      filter: drop-shadow(0px 1px 2px rgba(0, 0, 0, 0.3));\n",
              "      fill: #FFFFFF;\n",
              "    }\n",
              "  </style>\n",
              "\n",
              "      <script>\n",
              "        const buttonEl =\n",
              "          document.querySelector('#df-1b144e71-1b38-436e-b6fc-78d3c2e85cd6 button.colab-df-convert');\n",
              "        buttonEl.style.display =\n",
              "          google.colab.kernel.accessAllowed ? 'block' : 'none';\n",
              "\n",
              "        async function convertToInteractive(key) {\n",
              "          const element = document.querySelector('#df-1b144e71-1b38-436e-b6fc-78d3c2e85cd6');\n",
              "          const dataTable =\n",
              "            await google.colab.kernel.invokeFunction('convertToInteractive',\n",
              "                                                     [key], {});\n",
              "          if (!dataTable) return;\n",
              "\n",
              "          const docLinkHtml = 'Like what you see? Visit the ' +\n",
              "            '<a target=\"_blank\" href=https://colab.research.google.com/notebooks/data_table.ipynb>data table notebook</a>'\n",
              "            + ' to learn more about interactive tables.';\n",
              "          element.innerHTML = '';\n",
              "          dataTable['output_type'] = 'display_data';\n",
              "          await google.colab.output.renderOutput(dataTable, element);\n",
              "          const docLink = document.createElement('div');\n",
              "          docLink.innerHTML = docLinkHtml;\n",
              "          element.appendChild(docLink);\n",
              "        }\n",
              "      </script>\n",
              "    </div>\n",
              "  </div>\n",
              "  "
            ]
          },
          "metadata": {},
          "execution_count": 31
        }
      ]
    },
    {
      "cell_type": "code",
      "source": [
        "df.head"
      ],
      "metadata": {
        "colab": {
          "base_uri": "https://localhost:8080/"
        },
        "id": "4ebstmw4iA7O",
        "outputId": "324dda3a-9193-421b-a012-2aa165e6b671"
      },
      "execution_count": 32,
      "outputs": [
        {
          "output_type": "execute_result",
          "data": {
            "text/plain": [
              "<bound method NDFrame.head of        age           job  marital education_qual  call_type  day  mon   dur  \\\n",
              "0       58    management  married       tertiary    unknown    5  may   261   \n",
              "1       44    technician   single      secondary    unknown    5  may   151   \n",
              "2       33  entrepreneur  married      secondary    unknown    5  may    76   \n",
              "3       47   blue-collar  married        unknown    unknown    5  may    92   \n",
              "4       33       unknown   single        unknown    unknown    5  may   198   \n",
              "...    ...           ...      ...            ...        ...  ...  ...   ...   \n",
              "16493   47   blue-collar  married      secondary  telephone   23  jul   329   \n",
              "16494   42   blue-collar  married        unknown  telephone   23  jul   329   \n",
              "16495   37  entrepreneur  married        unknown   cellular   23  jul   609   \n",
              "16496   56       retired  married        primary   cellular   23  jul   652   \n",
              "16497   36        admin.  married      secondary   cellular   23  jul  1201   \n",
              "\n",
              "       num_calls prev_outcome    y  \n",
              "0              1      unknown   no  \n",
              "1              1      unknown   no  \n",
              "2              1      unknown   no  \n",
              "3              1      unknown   no  \n",
              "4              1      unknown   no  \n",
              "...          ...          ...  ...  \n",
              "16493          3      unknown   no  \n",
              "16494          3      unknown   no  \n",
              "16495          2      unknown   no  \n",
              "16496          2      unknown   no  \n",
              "16497          6      unknown  yes  \n",
              "\n",
              "[16498 rows x 11 columns]>"
            ]
          },
          "metadata": {},
          "execution_count": 32
        }
      ]
    },
    {
      "cell_type": "code",
      "source": [
        "df.head()"
      ],
      "metadata": {
        "colab": {
          "base_uri": "https://localhost:8080/",
          "height": 206
        },
        "id": "RpmqQxjeiNUC",
        "outputId": "2dd0583e-b05e-4607-e899-d49e6a966cb6"
      },
      "execution_count": 33,
      "outputs": [
        {
          "output_type": "execute_result",
          "data": {
            "text/plain": [
              "   age           job  marital education_qual call_type  day  mon  dur  \\\n",
              "0   58    management  married       tertiary   unknown    5  may  261   \n",
              "1   44    technician   single      secondary   unknown    5  may  151   \n",
              "2   33  entrepreneur  married      secondary   unknown    5  may   76   \n",
              "3   47   blue-collar  married        unknown   unknown    5  may   92   \n",
              "4   33       unknown   single        unknown   unknown    5  may  198   \n",
              "\n",
              "   num_calls prev_outcome   y  \n",
              "0          1      unknown  no  \n",
              "1          1      unknown  no  \n",
              "2          1      unknown  no  \n",
              "3          1      unknown  no  \n",
              "4          1      unknown  no  "
            ],
            "text/html": [
              "\n",
              "  <div id=\"df-839785c6-1d6f-44e3-a8b8-1a4720a9bfe6\">\n",
              "    <div class=\"colab-df-container\">\n",
              "      <div>\n",
              "<style scoped>\n",
              "    .dataframe tbody tr th:only-of-type {\n",
              "        vertical-align: middle;\n",
              "    }\n",
              "\n",
              "    .dataframe tbody tr th {\n",
              "        vertical-align: top;\n",
              "    }\n",
              "\n",
              "    .dataframe thead th {\n",
              "        text-align: right;\n",
              "    }\n",
              "</style>\n",
              "<table border=\"1\" class=\"dataframe\">\n",
              "  <thead>\n",
              "    <tr style=\"text-align: right;\">\n",
              "      <th></th>\n",
              "      <th>age</th>\n",
              "      <th>job</th>\n",
              "      <th>marital</th>\n",
              "      <th>education_qual</th>\n",
              "      <th>call_type</th>\n",
              "      <th>day</th>\n",
              "      <th>mon</th>\n",
              "      <th>dur</th>\n",
              "      <th>num_calls</th>\n",
              "      <th>prev_outcome</th>\n",
              "      <th>y</th>\n",
              "    </tr>\n",
              "  </thead>\n",
              "  <tbody>\n",
              "    <tr>\n",
              "      <th>0</th>\n",
              "      <td>58</td>\n",
              "      <td>management</td>\n",
              "      <td>married</td>\n",
              "      <td>tertiary</td>\n",
              "      <td>unknown</td>\n",
              "      <td>5</td>\n",
              "      <td>may</td>\n",
              "      <td>261</td>\n",
              "      <td>1</td>\n",
              "      <td>unknown</td>\n",
              "      <td>no</td>\n",
              "    </tr>\n",
              "    <tr>\n",
              "      <th>1</th>\n",
              "      <td>44</td>\n",
              "      <td>technician</td>\n",
              "      <td>single</td>\n",
              "      <td>secondary</td>\n",
              "      <td>unknown</td>\n",
              "      <td>5</td>\n",
              "      <td>may</td>\n",
              "      <td>151</td>\n",
              "      <td>1</td>\n",
              "      <td>unknown</td>\n",
              "      <td>no</td>\n",
              "    </tr>\n",
              "    <tr>\n",
              "      <th>2</th>\n",
              "      <td>33</td>\n",
              "      <td>entrepreneur</td>\n",
              "      <td>married</td>\n",
              "      <td>secondary</td>\n",
              "      <td>unknown</td>\n",
              "      <td>5</td>\n",
              "      <td>may</td>\n",
              "      <td>76</td>\n",
              "      <td>1</td>\n",
              "      <td>unknown</td>\n",
              "      <td>no</td>\n",
              "    </tr>\n",
              "    <tr>\n",
              "      <th>3</th>\n",
              "      <td>47</td>\n",
              "      <td>blue-collar</td>\n",
              "      <td>married</td>\n",
              "      <td>unknown</td>\n",
              "      <td>unknown</td>\n",
              "      <td>5</td>\n",
              "      <td>may</td>\n",
              "      <td>92</td>\n",
              "      <td>1</td>\n",
              "      <td>unknown</td>\n",
              "      <td>no</td>\n",
              "    </tr>\n",
              "    <tr>\n",
              "      <th>4</th>\n",
              "      <td>33</td>\n",
              "      <td>unknown</td>\n",
              "      <td>single</td>\n",
              "      <td>unknown</td>\n",
              "      <td>unknown</td>\n",
              "      <td>5</td>\n",
              "      <td>may</td>\n",
              "      <td>198</td>\n",
              "      <td>1</td>\n",
              "      <td>unknown</td>\n",
              "      <td>no</td>\n",
              "    </tr>\n",
              "  </tbody>\n",
              "</table>\n",
              "</div>\n",
              "      <button class=\"colab-df-convert\" onclick=\"convertToInteractive('df-839785c6-1d6f-44e3-a8b8-1a4720a9bfe6')\"\n",
              "              title=\"Convert this dataframe to an interactive table.\"\n",
              "              style=\"display:none;\">\n",
              "        \n",
              "  <svg xmlns=\"http://www.w3.org/2000/svg\" height=\"24px\"viewBox=\"0 0 24 24\"\n",
              "       width=\"24px\">\n",
              "    <path d=\"M0 0h24v24H0V0z\" fill=\"none\"/>\n",
              "    <path d=\"M18.56 5.44l.94 2.06.94-2.06 2.06-.94-2.06-.94-.94-2.06-.94 2.06-2.06.94zm-11 1L8.5 8.5l.94-2.06 2.06-.94-2.06-.94L8.5 2.5l-.94 2.06-2.06.94zm10 10l.94 2.06.94-2.06 2.06-.94-2.06-.94-.94-2.06-.94 2.06-2.06.94z\"/><path d=\"M17.41 7.96l-1.37-1.37c-.4-.4-.92-.59-1.43-.59-.52 0-1.04.2-1.43.59L10.3 9.45l-7.72 7.72c-.78.78-.78 2.05 0 2.83L4 21.41c.39.39.9.59 1.41.59.51 0 1.02-.2 1.41-.59l7.78-7.78 2.81-2.81c.8-.78.8-2.07 0-2.86zM5.41 20L4 18.59l7.72-7.72 1.47 1.35L5.41 20z\"/>\n",
              "  </svg>\n",
              "      </button>\n",
              "      \n",
              "  <style>\n",
              "    .colab-df-container {\n",
              "      display:flex;\n",
              "      flex-wrap:wrap;\n",
              "      gap: 12px;\n",
              "    }\n",
              "\n",
              "    .colab-df-convert {\n",
              "      background-color: #E8F0FE;\n",
              "      border: none;\n",
              "      border-radius: 50%;\n",
              "      cursor: pointer;\n",
              "      display: none;\n",
              "      fill: #1967D2;\n",
              "      height: 32px;\n",
              "      padding: 0 0 0 0;\n",
              "      width: 32px;\n",
              "    }\n",
              "\n",
              "    .colab-df-convert:hover {\n",
              "      background-color: #E2EBFA;\n",
              "      box-shadow: 0px 1px 2px rgba(60, 64, 67, 0.3), 0px 1px 3px 1px rgba(60, 64, 67, 0.15);\n",
              "      fill: #174EA6;\n",
              "    }\n",
              "\n",
              "    [theme=dark] .colab-df-convert {\n",
              "      background-color: #3B4455;\n",
              "      fill: #D2E3FC;\n",
              "    }\n",
              "\n",
              "    [theme=dark] .colab-df-convert:hover {\n",
              "      background-color: #434B5C;\n",
              "      box-shadow: 0px 1px 3px 1px rgba(0, 0, 0, 0.15);\n",
              "      filter: drop-shadow(0px 1px 2px rgba(0, 0, 0, 0.3));\n",
              "      fill: #FFFFFF;\n",
              "    }\n",
              "  </style>\n",
              "\n",
              "      <script>\n",
              "        const buttonEl =\n",
              "          document.querySelector('#df-839785c6-1d6f-44e3-a8b8-1a4720a9bfe6 button.colab-df-convert');\n",
              "        buttonEl.style.display =\n",
              "          google.colab.kernel.accessAllowed ? 'block' : 'none';\n",
              "\n",
              "        async function convertToInteractive(key) {\n",
              "          const element = document.querySelector('#df-839785c6-1d6f-44e3-a8b8-1a4720a9bfe6');\n",
              "          const dataTable =\n",
              "            await google.colab.kernel.invokeFunction('convertToInteractive',\n",
              "                                                     [key], {});\n",
              "          if (!dataTable) return;\n",
              "\n",
              "          const docLinkHtml = 'Like what you see? Visit the ' +\n",
              "            '<a target=\"_blank\" href=https://colab.research.google.com/notebooks/data_table.ipynb>data table notebook</a>'\n",
              "            + ' to learn more about interactive tables.';\n",
              "          element.innerHTML = '';\n",
              "          dataTable['output_type'] = 'display_data';\n",
              "          await google.colab.output.renderOutput(dataTable, element);\n",
              "          const docLink = document.createElement('div');\n",
              "          docLink.innerHTML = docLinkHtml;\n",
              "          element.appendChild(docLink);\n",
              "        }\n",
              "      </script>\n",
              "    </div>\n",
              "  </div>\n",
              "  "
            ]
          },
          "metadata": {},
          "execution_count": 33
        }
      ]
    },
    {
      "cell_type": "code",
      "source": [
        "# check the shape of the data\n",
        "df.shape   \n"
      ],
      "metadata": {
        "colab": {
          "base_uri": "https://localhost:8080/"
        },
        "id": "iLdY0i3RiRCM",
        "outputId": "672104d9-275c-4a49-c537-f265622c7efd"
      },
      "execution_count": 34,
      "outputs": [
        {
          "output_type": "execute_result",
          "data": {
            "text/plain": [
              "(16498, 11)"
            ]
          },
          "metadata": {},
          "execution_count": 34
        }
      ]
    },
    {
      "cell_type": "markdown",
      "source": [
        "#  Data Cleaning\n",
        "\n",
        "HANDLING MISSING VALUES\n"
      ],
      "metadata": {
        "id": "If6_1NYIvB_5"
      }
    },
    {
      "cell_type": "code",
      "source": [
        "# find the null values\n",
        "df.isnull().sum() "
      ],
      "metadata": {
        "colab": {
          "base_uri": "https://localhost:8080/"
        },
        "id": "UbE6EOP-iNIb",
        "outputId": "9c2423cc-2b9f-4a13-fc92-f98f09100e45"
      },
      "execution_count": 35,
      "outputs": [
        {
          "output_type": "execute_result",
          "data": {
            "text/plain": [
              "age               0\n",
              "job               0\n",
              "marital           0\n",
              "education_qual    0\n",
              "call_type         0\n",
              "day               0\n",
              "mon               0\n",
              "dur               0\n",
              "num_calls         0\n",
              "prev_outcome      0\n",
              "y                 0\n",
              "dtype: int64"
            ]
          },
          "metadata": {},
          "execution_count": 35
        }
      ]
    },
    {
      "cell_type": "markdown",
      "source": [
        "\n",
        "\n",
        "We can see there are no null values, so we can move forward\n"
      ],
      "metadata": {
        "id": "sVu56sfnvQs_"
      }
    },
    {
      "cell_type": "code",
      "source": [
        "# check duplicate values\n",
        "df[df.duplicated()]"
      ],
      "metadata": {
        "colab": {
          "base_uri": "https://localhost:8080/",
          "height": 219
        },
        "id": "h94wvvsqvK55",
        "outputId": "ef3cf1b2-3877-4d15-8b4a-1613a6c96e20"
      },
      "execution_count": 36,
      "outputs": [
        {
          "output_type": "execute_result",
          "data": {
            "text/plain": [
              "       age          job  marital education_qual call_type  day  mon  dur  \\\n",
              "6893    34     services  married      secondary   unknown   28  may  124   \n",
              "8138    29       admin.   single      secondary   unknown    2  jun  121   \n",
              "11630   39  blue-collar  married        primary   unknown   19  jun  112   \n",
              "13400   36  blue-collar  married      secondary  cellular    9  jul  183   \n",
              "\n",
              "       num_calls prev_outcome   y  \n",
              "6893           1      unknown  no  \n",
              "8138           4      unknown  no  \n",
              "11630          4      unknown  no  \n",
              "13400          1      unknown  no  "
            ],
            "text/html": [
              "\n",
              "  <div id=\"df-3322f37a-b150-4271-9b76-2e3f4977968a\">\n",
              "    <div class=\"colab-df-container\">\n",
              "      <div>\n",
              "<style scoped>\n",
              "    .dataframe tbody tr th:only-of-type {\n",
              "        vertical-align: middle;\n",
              "    }\n",
              "\n",
              "    .dataframe tbody tr th {\n",
              "        vertical-align: top;\n",
              "    }\n",
              "\n",
              "    .dataframe thead th {\n",
              "        text-align: right;\n",
              "    }\n",
              "</style>\n",
              "<table border=\"1\" class=\"dataframe\">\n",
              "  <thead>\n",
              "    <tr style=\"text-align: right;\">\n",
              "      <th></th>\n",
              "      <th>age</th>\n",
              "      <th>job</th>\n",
              "      <th>marital</th>\n",
              "      <th>education_qual</th>\n",
              "      <th>call_type</th>\n",
              "      <th>day</th>\n",
              "      <th>mon</th>\n",
              "      <th>dur</th>\n",
              "      <th>num_calls</th>\n",
              "      <th>prev_outcome</th>\n",
              "      <th>y</th>\n",
              "    </tr>\n",
              "  </thead>\n",
              "  <tbody>\n",
              "    <tr>\n",
              "      <th>6893</th>\n",
              "      <td>34</td>\n",
              "      <td>services</td>\n",
              "      <td>married</td>\n",
              "      <td>secondary</td>\n",
              "      <td>unknown</td>\n",
              "      <td>28</td>\n",
              "      <td>may</td>\n",
              "      <td>124</td>\n",
              "      <td>1</td>\n",
              "      <td>unknown</td>\n",
              "      <td>no</td>\n",
              "    </tr>\n",
              "    <tr>\n",
              "      <th>8138</th>\n",
              "      <td>29</td>\n",
              "      <td>admin.</td>\n",
              "      <td>single</td>\n",
              "      <td>secondary</td>\n",
              "      <td>unknown</td>\n",
              "      <td>2</td>\n",
              "      <td>jun</td>\n",
              "      <td>121</td>\n",
              "      <td>4</td>\n",
              "      <td>unknown</td>\n",
              "      <td>no</td>\n",
              "    </tr>\n",
              "    <tr>\n",
              "      <th>11630</th>\n",
              "      <td>39</td>\n",
              "      <td>blue-collar</td>\n",
              "      <td>married</td>\n",
              "      <td>primary</td>\n",
              "      <td>unknown</td>\n",
              "      <td>19</td>\n",
              "      <td>jun</td>\n",
              "      <td>112</td>\n",
              "      <td>4</td>\n",
              "      <td>unknown</td>\n",
              "      <td>no</td>\n",
              "    </tr>\n",
              "    <tr>\n",
              "      <th>13400</th>\n",
              "      <td>36</td>\n",
              "      <td>blue-collar</td>\n",
              "      <td>married</td>\n",
              "      <td>secondary</td>\n",
              "      <td>cellular</td>\n",
              "      <td>9</td>\n",
              "      <td>jul</td>\n",
              "      <td>183</td>\n",
              "      <td>1</td>\n",
              "      <td>unknown</td>\n",
              "      <td>no</td>\n",
              "    </tr>\n",
              "  </tbody>\n",
              "</table>\n",
              "</div>\n",
              "      <button class=\"colab-df-convert\" onclick=\"convertToInteractive('df-3322f37a-b150-4271-9b76-2e3f4977968a')\"\n",
              "              title=\"Convert this dataframe to an interactive table.\"\n",
              "              style=\"display:none;\">\n",
              "        \n",
              "  <svg xmlns=\"http://www.w3.org/2000/svg\" height=\"24px\"viewBox=\"0 0 24 24\"\n",
              "       width=\"24px\">\n",
              "    <path d=\"M0 0h24v24H0V0z\" fill=\"none\"/>\n",
              "    <path d=\"M18.56 5.44l.94 2.06.94-2.06 2.06-.94-2.06-.94-.94-2.06-.94 2.06-2.06.94zm-11 1L8.5 8.5l.94-2.06 2.06-.94-2.06-.94L8.5 2.5l-.94 2.06-2.06.94zm10 10l.94 2.06.94-2.06 2.06-.94-2.06-.94-.94-2.06-.94 2.06-2.06.94z\"/><path d=\"M17.41 7.96l-1.37-1.37c-.4-.4-.92-.59-1.43-.59-.52 0-1.04.2-1.43.59L10.3 9.45l-7.72 7.72c-.78.78-.78 2.05 0 2.83L4 21.41c.39.39.9.59 1.41.59.51 0 1.02-.2 1.41-.59l7.78-7.78 2.81-2.81c.8-.78.8-2.07 0-2.86zM5.41 20L4 18.59l7.72-7.72 1.47 1.35L5.41 20z\"/>\n",
              "  </svg>\n",
              "      </button>\n",
              "      \n",
              "  <style>\n",
              "    .colab-df-container {\n",
              "      display:flex;\n",
              "      flex-wrap:wrap;\n",
              "      gap: 12px;\n",
              "    }\n",
              "\n",
              "    .colab-df-convert {\n",
              "      background-color: #E8F0FE;\n",
              "      border: none;\n",
              "      border-radius: 50%;\n",
              "      cursor: pointer;\n",
              "      display: none;\n",
              "      fill: #1967D2;\n",
              "      height: 32px;\n",
              "      padding: 0 0 0 0;\n",
              "      width: 32px;\n",
              "    }\n",
              "\n",
              "    .colab-df-convert:hover {\n",
              "      background-color: #E2EBFA;\n",
              "      box-shadow: 0px 1px 2px rgba(60, 64, 67, 0.3), 0px 1px 3px 1px rgba(60, 64, 67, 0.15);\n",
              "      fill: #174EA6;\n",
              "    }\n",
              "\n",
              "    [theme=dark] .colab-df-convert {\n",
              "      background-color: #3B4455;\n",
              "      fill: #D2E3FC;\n",
              "    }\n",
              "\n",
              "    [theme=dark] .colab-df-convert:hover {\n",
              "      background-color: #434B5C;\n",
              "      box-shadow: 0px 1px 3px 1px rgba(0, 0, 0, 0.15);\n",
              "      filter: drop-shadow(0px 1px 2px rgba(0, 0, 0, 0.3));\n",
              "      fill: #FFFFFF;\n",
              "    }\n",
              "  </style>\n",
              "\n",
              "      <script>\n",
              "        const buttonEl =\n",
              "          document.querySelector('#df-3322f37a-b150-4271-9b76-2e3f4977968a button.colab-df-convert');\n",
              "        buttonEl.style.display =\n",
              "          google.colab.kernel.accessAllowed ? 'block' : 'none';\n",
              "\n",
              "        async function convertToInteractive(key) {\n",
              "          const element = document.querySelector('#df-3322f37a-b150-4271-9b76-2e3f4977968a');\n",
              "          const dataTable =\n",
              "            await google.colab.kernel.invokeFunction('convertToInteractive',\n",
              "                                                     [key], {});\n",
              "          if (!dataTable) return;\n",
              "\n",
              "          const docLinkHtml = 'Like what you see? Visit the ' +\n",
              "            '<a target=\"_blank\" href=https://colab.research.google.com/notebooks/data_table.ipynb>data table notebook</a>'\n",
              "            + ' to learn more about interactive tables.';\n",
              "          element.innerHTML = '';\n",
              "          dataTable['output_type'] = 'display_data';\n",
              "          await google.colab.output.renderOutput(dataTable, element);\n",
              "          const docLink = document.createElement('div');\n",
              "          docLink.innerHTML = docLinkHtml;\n",
              "          element.appendChild(docLink);\n",
              "        }\n",
              "      </script>\n",
              "    </div>\n",
              "  </div>\n",
              "  "
            ]
          },
          "metadata": {},
          "execution_count": 36
        }
      ]
    },
    {
      "cell_type": "code",
      "source": [
        "# drop duplicate values\n",
        "df.drop_duplicates(inplace=True, keep = 'first')\n",
        "\n",
        "# check duplicate values after removing\n",
        "df[df.duplicated()]\n",
        "\n"
      ],
      "metadata": {
        "colab": {
          "base_uri": "https://localhost:8080/",
          "height": 49
        },
        "id": "06dh0w_9vK0I",
        "outputId": "f9e691bf-fb80-44e3-89ff-ab3ccd09091b"
      },
      "execution_count": 37,
      "outputs": [
        {
          "output_type": "execute_result",
          "data": {
            "text/plain": [
              "Empty DataFrame\n",
              "Columns: [age, job, marital, education_qual, call_type, day, mon, dur, num_calls, prev_outcome, y]\n",
              "Index: []"
            ],
            "text/html": [
              "\n",
              "  <div id=\"df-2595c13c-4a93-4f83-897a-0ff40db16fb1\">\n",
              "    <div class=\"colab-df-container\">\n",
              "      <div>\n",
              "<style scoped>\n",
              "    .dataframe tbody tr th:only-of-type {\n",
              "        vertical-align: middle;\n",
              "    }\n",
              "\n",
              "    .dataframe tbody tr th {\n",
              "        vertical-align: top;\n",
              "    }\n",
              "\n",
              "    .dataframe thead th {\n",
              "        text-align: right;\n",
              "    }\n",
              "</style>\n",
              "<table border=\"1\" class=\"dataframe\">\n",
              "  <thead>\n",
              "    <tr style=\"text-align: right;\">\n",
              "      <th></th>\n",
              "      <th>age</th>\n",
              "      <th>job</th>\n",
              "      <th>marital</th>\n",
              "      <th>education_qual</th>\n",
              "      <th>call_type</th>\n",
              "      <th>day</th>\n",
              "      <th>mon</th>\n",
              "      <th>dur</th>\n",
              "      <th>num_calls</th>\n",
              "      <th>prev_outcome</th>\n",
              "      <th>y</th>\n",
              "    </tr>\n",
              "  </thead>\n",
              "  <tbody>\n",
              "  </tbody>\n",
              "</table>\n",
              "</div>\n",
              "      <button class=\"colab-df-convert\" onclick=\"convertToInteractive('df-2595c13c-4a93-4f83-897a-0ff40db16fb1')\"\n",
              "              title=\"Convert this dataframe to an interactive table.\"\n",
              "              style=\"display:none;\">\n",
              "        \n",
              "  <svg xmlns=\"http://www.w3.org/2000/svg\" height=\"24px\"viewBox=\"0 0 24 24\"\n",
              "       width=\"24px\">\n",
              "    <path d=\"M0 0h24v24H0V0z\" fill=\"none\"/>\n",
              "    <path d=\"M18.56 5.44l.94 2.06.94-2.06 2.06-.94-2.06-.94-.94-2.06-.94 2.06-2.06.94zm-11 1L8.5 8.5l.94-2.06 2.06-.94-2.06-.94L8.5 2.5l-.94 2.06-2.06.94zm10 10l.94 2.06.94-2.06 2.06-.94-2.06-.94-.94-2.06-.94 2.06-2.06.94z\"/><path d=\"M17.41 7.96l-1.37-1.37c-.4-.4-.92-.59-1.43-.59-.52 0-1.04.2-1.43.59L10.3 9.45l-7.72 7.72c-.78.78-.78 2.05 0 2.83L4 21.41c.39.39.9.59 1.41.59.51 0 1.02-.2 1.41-.59l7.78-7.78 2.81-2.81c.8-.78.8-2.07 0-2.86zM5.41 20L4 18.59l7.72-7.72 1.47 1.35L5.41 20z\"/>\n",
              "  </svg>\n",
              "      </button>\n",
              "      \n",
              "  <style>\n",
              "    .colab-df-container {\n",
              "      display:flex;\n",
              "      flex-wrap:wrap;\n",
              "      gap: 12px;\n",
              "    }\n",
              "\n",
              "    .colab-df-convert {\n",
              "      background-color: #E8F0FE;\n",
              "      border: none;\n",
              "      border-radius: 50%;\n",
              "      cursor: pointer;\n",
              "      display: none;\n",
              "      fill: #1967D2;\n",
              "      height: 32px;\n",
              "      padding: 0 0 0 0;\n",
              "      width: 32px;\n",
              "    }\n",
              "\n",
              "    .colab-df-convert:hover {\n",
              "      background-color: #E2EBFA;\n",
              "      box-shadow: 0px 1px 2px rgba(60, 64, 67, 0.3), 0px 1px 3px 1px rgba(60, 64, 67, 0.15);\n",
              "      fill: #174EA6;\n",
              "    }\n",
              "\n",
              "    [theme=dark] .colab-df-convert {\n",
              "      background-color: #3B4455;\n",
              "      fill: #D2E3FC;\n",
              "    }\n",
              "\n",
              "    [theme=dark] .colab-df-convert:hover {\n",
              "      background-color: #434B5C;\n",
              "      box-shadow: 0px 1px 3px 1px rgba(0, 0, 0, 0.15);\n",
              "      filter: drop-shadow(0px 1px 2px rgba(0, 0, 0, 0.3));\n",
              "      fill: #FFFFFF;\n",
              "    }\n",
              "  </style>\n",
              "\n",
              "      <script>\n",
              "        const buttonEl =\n",
              "          document.querySelector('#df-2595c13c-4a93-4f83-897a-0ff40db16fb1 button.colab-df-convert');\n",
              "        buttonEl.style.display =\n",
              "          google.colab.kernel.accessAllowed ? 'block' : 'none';\n",
              "\n",
              "        async function convertToInteractive(key) {\n",
              "          const element = document.querySelector('#df-2595c13c-4a93-4f83-897a-0ff40db16fb1');\n",
              "          const dataTable =\n",
              "            await google.colab.kernel.invokeFunction('convertToInteractive',\n",
              "                                                     [key], {});\n",
              "          if (!dataTable) return;\n",
              "\n",
              "          const docLinkHtml = 'Like what you see? Visit the ' +\n",
              "            '<a target=\"_blank\" href=https://colab.research.google.com/notebooks/data_table.ipynb>data table notebook</a>'\n",
              "            + ' to learn more about interactive tables.';\n",
              "          element.innerHTML = '';\n",
              "          dataTable['output_type'] = 'display_data';\n",
              "          await google.colab.output.renderOutput(dataTable, element);\n",
              "          const docLink = document.createElement('div');\n",
              "          docLink.innerHTML = docLinkHtml;\n",
              "          element.appendChild(docLink);\n",
              "        }\n",
              "      </script>\n",
              "    </div>\n",
              "  </div>\n",
              "  "
            ]
          },
          "metadata": {},
          "execution_count": 37
        }
      ]
    },
    {
      "cell_type": "markdown",
      "source": [
        "\n",
        "\n",
        "CHECKING DATATYPE\n"
      ],
      "metadata": {
        "id": "4O3n12UDvfYA"
      }
    },
    {
      "cell_type": "code",
      "source": [
        "# check data type of our data\n",
        "df.dtypes \n"
      ],
      "metadata": {
        "colab": {
          "base_uri": "https://localhost:8080/"
        },
        "id": "NGl-CrUavKtA",
        "outputId": "2e4d2a3e-4859-4971-b071-00f05064529d"
      },
      "execution_count": 38,
      "outputs": [
        {
          "output_type": "execute_result",
          "data": {
            "text/plain": [
              "age                int64\n",
              "job               object\n",
              "marital           object\n",
              "education_qual    object\n",
              "call_type         object\n",
              "day                int64\n",
              "mon               object\n",
              "dur                int64\n",
              "num_calls          int64\n",
              "prev_outcome      object\n",
              "y                 object\n",
              "dtype: object"
            ]
          },
          "metadata": {},
          "execution_count": 38
        }
      ]
    },
    {
      "cell_type": "markdown",
      "source": [
        "#  Change Data Type Of Some Columns\n"
      ],
      "metadata": {
        "id": "7Wpi4RQHvqWH"
      }
    },
    {
      "cell_type": "code",
      "source": [
        "df['age'] = df['age'].astype(int)\n",
        "df['day'] = df['day'].astype(int)\n",
        "df['dur'] = df['dur'].astype(int)\n",
        "df['num_calls'] = df['num_calls'].astype(int)"
      ],
      "metadata": {
        "id": "CyMDDjAzvtSP"
      },
      "execution_count": 39,
      "outputs": []
    },
    {
      "cell_type": "markdown",
      "source": [
        "\n",
        "\n",
        "Now all the data type are correct\n",
        "\n",
        "COLUMN NAMES CHANGING\n"
      ],
      "metadata": {
        "id": "fFmblPBsv0Tc"
      }
    },
    {
      "cell_type": "code",
      "source": [
        "# rename of some column for better understanding\n",
        "df=df.rename(columns={\"mon\":\"month\",\"dur\":\"duration\", 'y':'result'})\n"
      ],
      "metadata": {
        "id": "NOeHb8bEv1lb"
      },
      "execution_count": 40,
      "outputs": []
    },
    {
      "cell_type": "markdown",
      "source": [
        "\n",
        "\n",
        "NUMERICAL COLUMNS OUTLIER DETECTION\n"
      ],
      "metadata": {
        "id": "Dc0FCzSIv-vp"
      }
    },
    {
      "cell_type": "code",
      "source": [
        "# check outliers by describe\n",
        "df.describe()"
      ],
      "metadata": {
        "colab": {
          "base_uri": "https://localhost:8080/",
          "height": 300
        },
        "id": "azCT73n4v2aS",
        "outputId": "c5b7cf0a-d94c-415f-c018-4ad135a926a1"
      },
      "execution_count": 41,
      "outputs": [
        {
          "output_type": "execute_result",
          "data": {
            "text/plain": [
              "                age           day      duration     num_calls\n",
              "count  16494.000000  16494.000000  16494.000000  16494.000000\n",
              "mean      40.567782     15.157512    262.399721      2.809870\n",
              "std        9.525980      7.869104    259.284539      3.281122\n",
              "min       20.000000      1.000000      0.000000      1.000000\n",
              "25%       33.000000      8.000000    107.000000      1.000000\n",
              "50%       39.000000     15.000000    184.000000      2.000000\n",
              "75%       48.000000     21.000000    322.000000      3.000000\n",
              "max       61.000000     30.000000   3881.000000     63.000000"
            ],
            "text/html": [
              "\n",
              "  <div id=\"df-ee26b641-1e53-4eaf-aff2-6da48d3ca447\">\n",
              "    <div class=\"colab-df-container\">\n",
              "      <div>\n",
              "<style scoped>\n",
              "    .dataframe tbody tr th:only-of-type {\n",
              "        vertical-align: middle;\n",
              "    }\n",
              "\n",
              "    .dataframe tbody tr th {\n",
              "        vertical-align: top;\n",
              "    }\n",
              "\n",
              "    .dataframe thead th {\n",
              "        text-align: right;\n",
              "    }\n",
              "</style>\n",
              "<table border=\"1\" class=\"dataframe\">\n",
              "  <thead>\n",
              "    <tr style=\"text-align: right;\">\n",
              "      <th></th>\n",
              "      <th>age</th>\n",
              "      <th>day</th>\n",
              "      <th>duration</th>\n",
              "      <th>num_calls</th>\n",
              "    </tr>\n",
              "  </thead>\n",
              "  <tbody>\n",
              "    <tr>\n",
              "      <th>count</th>\n",
              "      <td>16494.000000</td>\n",
              "      <td>16494.000000</td>\n",
              "      <td>16494.000000</td>\n",
              "      <td>16494.000000</td>\n",
              "    </tr>\n",
              "    <tr>\n",
              "      <th>mean</th>\n",
              "      <td>40.567782</td>\n",
              "      <td>15.157512</td>\n",
              "      <td>262.399721</td>\n",
              "      <td>2.809870</td>\n",
              "    </tr>\n",
              "    <tr>\n",
              "      <th>std</th>\n",
              "      <td>9.525980</td>\n",
              "      <td>7.869104</td>\n",
              "      <td>259.284539</td>\n",
              "      <td>3.281122</td>\n",
              "    </tr>\n",
              "    <tr>\n",
              "      <th>min</th>\n",
              "      <td>20.000000</td>\n",
              "      <td>1.000000</td>\n",
              "      <td>0.000000</td>\n",
              "      <td>1.000000</td>\n",
              "    </tr>\n",
              "    <tr>\n",
              "      <th>25%</th>\n",
              "      <td>33.000000</td>\n",
              "      <td>8.000000</td>\n",
              "      <td>107.000000</td>\n",
              "      <td>1.000000</td>\n",
              "    </tr>\n",
              "    <tr>\n",
              "      <th>50%</th>\n",
              "      <td>39.000000</td>\n",
              "      <td>15.000000</td>\n",
              "      <td>184.000000</td>\n",
              "      <td>2.000000</td>\n",
              "    </tr>\n",
              "    <tr>\n",
              "      <th>75%</th>\n",
              "      <td>48.000000</td>\n",
              "      <td>21.000000</td>\n",
              "      <td>322.000000</td>\n",
              "      <td>3.000000</td>\n",
              "    </tr>\n",
              "    <tr>\n",
              "      <th>max</th>\n",
              "      <td>61.000000</td>\n",
              "      <td>30.000000</td>\n",
              "      <td>3881.000000</td>\n",
              "      <td>63.000000</td>\n",
              "    </tr>\n",
              "  </tbody>\n",
              "</table>\n",
              "</div>\n",
              "      <button class=\"colab-df-convert\" onclick=\"convertToInteractive('df-ee26b641-1e53-4eaf-aff2-6da48d3ca447')\"\n",
              "              title=\"Convert this dataframe to an interactive table.\"\n",
              "              style=\"display:none;\">\n",
              "        \n",
              "  <svg xmlns=\"http://www.w3.org/2000/svg\" height=\"24px\"viewBox=\"0 0 24 24\"\n",
              "       width=\"24px\">\n",
              "    <path d=\"M0 0h24v24H0V0z\" fill=\"none\"/>\n",
              "    <path d=\"M18.56 5.44l.94 2.06.94-2.06 2.06-.94-2.06-.94-.94-2.06-.94 2.06-2.06.94zm-11 1L8.5 8.5l.94-2.06 2.06-.94-2.06-.94L8.5 2.5l-.94 2.06-2.06.94zm10 10l.94 2.06.94-2.06 2.06-.94-2.06-.94-.94-2.06-.94 2.06-2.06.94z\"/><path d=\"M17.41 7.96l-1.37-1.37c-.4-.4-.92-.59-1.43-.59-.52 0-1.04.2-1.43.59L10.3 9.45l-7.72 7.72c-.78.78-.78 2.05 0 2.83L4 21.41c.39.39.9.59 1.41.59.51 0 1.02-.2 1.41-.59l7.78-7.78 2.81-2.81c.8-.78.8-2.07 0-2.86zM5.41 20L4 18.59l7.72-7.72 1.47 1.35L5.41 20z\"/>\n",
              "  </svg>\n",
              "      </button>\n",
              "      \n",
              "  <style>\n",
              "    .colab-df-container {\n",
              "      display:flex;\n",
              "      flex-wrap:wrap;\n",
              "      gap: 12px;\n",
              "    }\n",
              "\n",
              "    .colab-df-convert {\n",
              "      background-color: #E8F0FE;\n",
              "      border: none;\n",
              "      border-radius: 50%;\n",
              "      cursor: pointer;\n",
              "      display: none;\n",
              "      fill: #1967D2;\n",
              "      height: 32px;\n",
              "      padding: 0 0 0 0;\n",
              "      width: 32px;\n",
              "    }\n",
              "\n",
              "    .colab-df-convert:hover {\n",
              "      background-color: #E2EBFA;\n",
              "      box-shadow: 0px 1px 2px rgba(60, 64, 67, 0.3), 0px 1px 3px 1px rgba(60, 64, 67, 0.15);\n",
              "      fill: #174EA6;\n",
              "    }\n",
              "\n",
              "    [theme=dark] .colab-df-convert {\n",
              "      background-color: #3B4455;\n",
              "      fill: #D2E3FC;\n",
              "    }\n",
              "\n",
              "    [theme=dark] .colab-df-convert:hover {\n",
              "      background-color: #434B5C;\n",
              "      box-shadow: 0px 1px 3px 1px rgba(0, 0, 0, 0.15);\n",
              "      filter: drop-shadow(0px 1px 2px rgba(0, 0, 0, 0.3));\n",
              "      fill: #FFFFFF;\n",
              "    }\n",
              "  </style>\n",
              "\n",
              "      <script>\n",
              "        const buttonEl =\n",
              "          document.querySelector('#df-ee26b641-1e53-4eaf-aff2-6da48d3ca447 button.colab-df-convert');\n",
              "        buttonEl.style.display =\n",
              "          google.colab.kernel.accessAllowed ? 'block' : 'none';\n",
              "\n",
              "        async function convertToInteractive(key) {\n",
              "          const element = document.querySelector('#df-ee26b641-1e53-4eaf-aff2-6da48d3ca447');\n",
              "          const dataTable =\n",
              "            await google.colab.kernel.invokeFunction('convertToInteractive',\n",
              "                                                     [key], {});\n",
              "          if (!dataTable) return;\n",
              "\n",
              "          const docLinkHtml = 'Like what you see? Visit the ' +\n",
              "            '<a target=\"_blank\" href=https://colab.research.google.com/notebooks/data_table.ipynb>data table notebook</a>'\n",
              "            + ' to learn more about interactive tables.';\n",
              "          element.innerHTML = '';\n",
              "          dataTable['output_type'] = 'display_data';\n",
              "          await google.colab.output.renderOutput(dataTable, element);\n",
              "          const docLink = document.createElement('div');\n",
              "          docLink.innerHTML = docLinkHtml;\n",
              "          element.appendChild(docLink);\n",
              "        }\n",
              "      </script>\n",
              "    </div>\n",
              "  </div>\n",
              "  "
            ]
          },
          "metadata": {},
          "execution_count": 41
        }
      ]
    },
    {
      "cell_type": "markdown",
      "source": [
        "#  Check Outliers"
      ],
      "metadata": {
        "id": "D6swxfmqwKVA"
      }
    },
    {
      "cell_type": "code",
      "source": [
        "#age column outlier removal\n",
        "q1,q3=np.percentile(df[\"age\"],[25,75])\n",
        "IQR=q3-q1\n",
        "upper=q3+1.5*IQR\n",
        "lower=q1-1.5*IQR\n",
        "print(\"upper age bound:\",upper,\"lower age bound :\", lower)\n",
        "age=[]\n",
        "for i in df[\"age\"]:\n",
        "  if lower<=i<=upper:\n",
        "    age.append(i)\n",
        "print(len(age))\n",
        "print(df.shape)"
      ],
      "metadata": {
        "colab": {
          "base_uri": "https://localhost:8080/"
        },
        "id": "x08FR4hQv2DH",
        "outputId": "2eab07d5-6b36-4485-b0df-a6c862fb616e"
      },
      "execution_count": 42,
      "outputs": [
        {
          "output_type": "stream",
          "name": "stdout",
          "text": [
            "upper age bound: 70.5 lower age bound : 10.5\n",
            "16494\n",
            "(16494, 11)\n"
          ]
        }
      ]
    },
    {
      "cell_type": "code",
      "source": [
        "# Numerical column cleaning\n",
        "#duration column outlier removal\n",
        "q1,q3=np.percentile(df[\"duration\"],[25,75])\n",
        "IQR=q3-q1\n",
        "upper=q3+1.5*IQR\n",
        "lower=q1-1.5*IQR\n",
        "print(\"upper call duration:\",upper,\"lower call duration:\", lower)\n",
        "dur=[]\n",
        "for i in df[\"duration\"]:\n",
        "  if lower<=i<=upper:\n",
        "    dur.append(i)\n",
        "print(len(dur))"
      ],
      "metadata": {
        "colab": {
          "base_uri": "https://localhost:8080/"
        },
        "id": "LUWTgYf2wQVF",
        "outputId": "f49eab01-a561-4720-85cb-ccf69de34792"
      },
      "execution_count": 43,
      "outputs": [
        {
          "output_type": "stream",
          "name": "stdout",
          "text": [
            "upper call duration: 644.5 lower call duration: -215.5\n",
            "15284\n"
          ]
        }
      ]
    },
    {
      "cell_type": "code",
      "source": [
        "#num_calls outlier detection\n",
        "q1,q3=np.percentile(df[\"num_calls\"],[25,75])\n",
        "IQR=q3-q1\n",
        "upper=q3+1.5*IQR\n",
        "lower=q1-1.5*IQR\n",
        "print(\"upper num_calls:\",upper,\"lower num_calls\", lower)\n",
        "num_calls=[]\n",
        "for i in df[\"num_calls\"]:\n",
        "  if lower<=i<=upper:\n",
        "    num_calls.append(i)\n",
        "print(len(num_calls))\n"
      ],
      "metadata": {
        "colab": {
          "base_uri": "https://localhost:8080/"
        },
        "id": "TbY-J3AUwVw3",
        "outputId": "a9c9a313-940b-489e-fed7-9aa91f9d1397"
      },
      "execution_count": 44,
      "outputs": [
        {
          "output_type": "stream",
          "name": "stdout",
          "text": [
            "upper num_calls: 6.0 lower num_calls -2.0\n",
            "15319\n"
          ]
        }
      ]
    },
    {
      "cell_type": "code",
      "source": [
        "df.result.value_counts()"
      ],
      "metadata": {
        "colab": {
          "base_uri": "https://localhost:8080/"
        },
        "id": "EzEZYgQvwb5H",
        "outputId": "405bb2b7-157f-4f4d-f7b0-1036088a1546"
      },
      "execution_count": 45,
      "outputs": [
        {
          "output_type": "execute_result",
          "data": {
            "text/plain": [
              "no     15776\n",
              "yes      718\n",
              "Name: result, dtype: int64"
            ]
          },
          "metadata": {},
          "execution_count": 45
        }
      ]
    },
    {
      "cell_type": "code",
      "source": [
        "df[(df['age']>70.5) & (df['result'] == 'yes')].shape"
      ],
      "metadata": {
        "colab": {
          "base_uri": "https://localhost:8080/"
        },
        "id": "VfjR2loKwbv5",
        "outputId": "667d9d2c-8cac-42a7-a584-ab6a833f857d"
      },
      "execution_count": 46,
      "outputs": [
        {
          "output_type": "execute_result",
          "data": {
            "text/plain": [
              "(0, 11)"
            ]
          },
          "metadata": {},
          "execution_count": 46
        }
      ]
    },
    {
      "cell_type": "code",
      "source": [
        "df[(df['duration']>643) & (df['result'] == 'yes')].shape"
      ],
      "metadata": {
        "colab": {
          "base_uri": "https://localhost:8080/"
        },
        "id": "kDgziB9MwbjQ",
        "outputId": "24f925f5-6868-4237-c865-e4a2be5eeaf7"
      },
      "execution_count": 47,
      "outputs": [
        {
          "output_type": "execute_result",
          "data": {
            "text/plain": [
              "(522, 11)"
            ]
          },
          "metadata": {},
          "execution_count": 47
        }
      ]
    },
    {
      "cell_type": "code",
      "source": [
        "df[(df['num_calls']>6) & (df['result'] == 'yes')].shape"
      ],
      "metadata": {
        "colab": {
          "base_uri": "https://localhost:8080/"
        },
        "id": "AnXdP9rUwbTH",
        "outputId": "e9a294d4-c8d8-4a55-df07-53f799898520"
      },
      "execution_count": 48,
      "outputs": [
        {
          "output_type": "execute_result",
          "data": {
            "text/plain": [
              "(45, 11)"
            ]
          },
          "metadata": {},
          "execution_count": 48
        }
      ]
    },
    {
      "cell_type": "markdown",
      "source": [
        "\n",
        "\n",
        "Interpretation:- Extrem values are also very important, so we can't drop it\n"
      ],
      "metadata": {
        "id": "P95d3pHHwvdD"
      }
    },
    {
      "cell_type": "code",
      "source": [
        "# remove all the outliers and assign into new variable\n",
        "df_out_drop=df[(df[\"age\"].isin(age)) & (df[\"duration\"].isin(dur)) & (df[\"num_calls\"].isin(num_calls))]\n",
        "\n"
      ],
      "metadata": {
        "id": "u2FNvWJxw0sW"
      },
      "execution_count": 49,
      "outputs": []
    },
    {
      "cell_type": "code",
      "source": [
        "# check shape of new dataframe\n",
        "df_out_drop.shape\n"
      ],
      "metadata": {
        "colab": {
          "base_uri": "https://localhost:8080/"
        },
        "id": "bQcbeUyGw0eW",
        "outputId": "cf5c5e4d-6b16-4491-ef0d-4cda1d08ce3a"
      },
      "execution_count": 50,
      "outputs": [
        {
          "output_type": "execute_result",
          "data": {
            "text/plain": [
              "(14186, 11)"
            ]
          },
          "metadata": {},
          "execution_count": 50
        }
      ]
    },
    {
      "cell_type": "markdown",
      "source": [
        "# EXPLORATORY DATA ANALYSIS\n"
      ],
      "metadata": {
        "id": "XbY5Bk_Fw8Rf"
      }
    },
    {
      "cell_type": "code",
      "source": [
        "#lets check whether linear relationship exists between numeric fetures and target using pearson correlation coeff\n",
        "plt.figure(figsize=(10,10))\n",
        "sns.heatmap(df.corr(),annot=True, fmt='.1f')"
      ],
      "metadata": {
        "colab": {
          "base_uri": "https://localhost:8080/",
          "height": 613
        },
        "id": "H7r1HlZ8wz5Y",
        "outputId": "133f1b09-fa67-45a3-f677-405f5a86e224"
      },
      "execution_count": 51,
      "outputs": [
        {
          "output_type": "execute_result",
          "data": {
            "text/plain": [
              "<Axes: >"
            ]
          },
          "metadata": {},
          "execution_count": 51
        },
        {
          "output_type": "display_data",
          "data": {
            "text/plain": [
              "<Figure size 720x720 with 2 Axes>"
            ],
            "image/png": "[encoded data removed]"
          },
          "metadata": {
            "needs_background": "light"
          }
        }
      ]
    },
    {
      "cell_type": "markdown",
      "source": [
        "check feature distribution"
      ],
      "metadata": {
        "id": "Pct_ntU6xIcH"
      }
    },
    {
      "cell_type": "code",
      "source": [
        "# Age distribution \n",
        "plt.figure(figsize = (20,20),dpi=150)  \n",
        "plt.subplot(3,4,1) \n",
        "sns.histplot(df.age) \n",
        "plt.title('Age Distribution', fontsize = 20) \n",
        "plt.xlabel('Age',fontsize = 16) \n",
        "plt.ylabel('Count',fontsize = 16)  \n",
        "#Job distribution \n",
        "plt.subplot(3,4,2) \n",
        "sns.countplot(df['job'],order=df.job.value_counts().index) \n",
        "plt.title('job Distribution', fontsize = 20) \n",
        "plt.xlabel('Type Of Job',fontsize = 16) \n",
        "plt.xticks(rotation = 90) \n",
        "plt.ylabel('Count',fontsize = 16)  \n",
        "# Marital distribution \n",
        "plt.subplot(3,4,3) \n",
        "sns.countplot(df['marital'],order=df.marital.value_counts().index) \n",
        "plt.title('Marital', fontsize = 20) \n",
        "plt.xlabel('Marital',fontsize = 16) \n",
        "plt.xticks(rotation = 90) \n",
        "plt.ylabel('Count',fontsize = 16)  \n",
        "# Education qualification distribution \n",
        "plt.subplot(3,4,4) \n",
        "sns.countplot(df['education_qual'],order=df.education_qual.value_counts().index) \n",
        "plt.title('Education Qualification', fontsize = 20) \n",
        "plt.xlabel('Education',fontsize = 16) \n",
        "plt.xticks(rotation = 90) \n",
        "plt.ylabel('Count',fontsize = 16) \n",
        " # Call type distribution \n",
        "plt.subplot(3,4,5) \n",
        "sns.countplot(df['call_type'],order=df.call_type.value_counts().index) \n",
        "plt.title('Call Type', fontsize = 20) \n",
        "plt.xlabel('Call type',fontsize = 16) \n",
        "plt.xticks(rotation = 90) \n",
        "plt.ylabel('Count',fontsize = 16)  \n",
        " # Mon distribution \n",
        "plt.subplot(3,4,6) \n",
        "sns.countplot(df['month'],order=df.month.value_counts().index) \n",
        "plt.title('Month', fontsize = 20) \n",
        "plt.xlabel('Month',fontsize = 16) \n",
        "plt.xticks(rotation = 90) \n",
        "plt.ylabel('Count',fontsize = 16)  \n",
        " # Dur distribution \n",
        "plt.subplot(3,4,7) \n",
        "sns.histplot(df.duration) \n",
        "plt.title('Duration', fontsize = 20) \n",
        "plt.xlabel('Duration',fontsize = 16) \n",
        "plt.ylabel('Count',fontsize = 16)  \n",
        " # Previous outcome  distribution  \n",
        "plt.subplot(3,4,8) \n",
        "sns.countplot(df['prev_outcome'],order=df.prev_outcome.value_counts().index) \n",
        "plt.title('Previous Outcome', fontsize = 20) \n",
        "plt.xlabel('Previous Outcome',fontsize = 16) \n",
        "plt.xticks(rotation = 90) \n",
        "plt.ylabel('Count',fontsize = 16)  \n",
        "# Day distribution \n",
        "plt.subplot(3,4,9) \n",
        "sns.histplot(df['day']) \n",
        "plt.title('Day', fontsize = 20) \n",
        "plt.xlabel('Day',fontsize = 16) \n",
        "plt.xticks(rotation = 90,fontsize = 10) \n",
        "plt.ylabel('Count',fontsize = 16)  \n",
        "# Num call distribution \n",
        "plt.subplot(3,4,10) \n",
        "sns.histplot(df['num_calls']) \n",
        "plt.title('Number Of Calls', fontsize = 20) \n",
        "plt.xlabel('Number Of Calls',fontsize = 16) \n",
        "plt.xticks(rotation = 90) \n",
        "plt.ylabel('Count',fontsize = 16)  \n",
        "\n",
        " # Target distribution \n",
        "plt.subplot(3,4,11) \n",
        "sns.countplot(df['result']) \n",
        "plt.title('Target Distribution', fontsize = 20) \n",
        "plt.xlabel('Target Distribution',fontsize = 16)\n",
        "plt.xticks(rotation = 90) \n",
        "plt.ylabel('Count',\n",
        "\n",
        "fontsize = 16)  \n",
        "\n",
        "plt.tight_layout()\n",
        "plt.show()\n",
        "\n"
      ],
      "metadata": {
        "id": "c_WRcxJxxNtA"
      },
      "execution_count": null,
      "outputs": []
    },
    {
      "cell_type": "markdown",
      "source": [
        "INTERPRETATION:\n",
        "\n",
        "    AGE\n",
        "\n",
        "    Company targets 30 to 40 ages people to sell their insurance plan\n",
        "    People aged less than 25 years and more than 60 years are less targeted by the company for insurance\n",
        "\n",
        "    JOB\n",
        "\n",
        "    Blue collar and management people are targeted most by insurance company\n",
        "    Students are least targeted for insurance plan\n",
        "\n",
        "    MARITAL STATUS\n",
        "\n",
        "    Married people are targeted the most and divorced people are least targeted\n",
        "\n",
        "    EDUCATIONAL QUALIFICATION\n",
        "\n",
        "    Secondary qualified people have been targeted thye most for insurance followed by tertiary and primary\n",
        "\n",
        "    CALL_TYPE\n",
        "\n",
        "    Cellur mode is most used for contacting the people for campaign\n",
        "\n",
        "    Month\n",
        "\n",
        "    May month is when maxmium calls are generated for new insurance customers,december is the least no of calls placed by the company\n",
        "\n",
        "    Duration\n",
        "\n",
        "    maximum number of calls lasted less than 1000 seconds\n",
        "\n",
        "    Previous Outcome\n",
        "\n",
        "    More unknown as status than failure and success\n",
        "\n",
        "    Day\n",
        "\n",
        "    Most number of calls are between in the mid of month\n",
        "\n",
        "    Number of Calls\n",
        "\n",
        "    Most People are contacted only 1 or 2 times by the company\n",
        "\n",
        "    Target\n",
        "\n",
        "    No of people subscribed is very less compared to Unsubcribed people\n",
        "\n",
        "Features vs Features\n"
      ],
      "metadata": {
        "id": "QVV6z0lMx0H3"
      }
    },
    {
      "cell_type": "code",
      "source": [
        "# Age vs job\n",
        "plt.figure(figsize = (20,20))\n",
        "plt.subplot(5,2,1)\n",
        "ax = sns.histplot(x = 'age',hue = 'job',data = df)\n",
        "sns.move_legend(ax,\"upper right\",fontsize = 7)\n",
        "plt.title('Age Vs Job',fontsize = 20)\n",
        "plt.xlabel('Age',fontsize = 16) \n",
        "plt.ylabel('Count',fontsize = 16)  \n",
        "\n",
        "# Age vs marital\n",
        "plt.subplot(5,2,2)\n",
        "ax = sns.histplot(x = 'age',hue = 'marital',data = df)\n",
        "sns.move_legend(ax,\"upper right\",fontsize = 7)\n",
        "plt.title('Age Vs Marital Status',fontsize = 20)\n",
        "plt.xlabel('Age',fontsize = 16) \n",
        "plt.ylabel('Count',fontsize = 16) \n",
        "\n",
        "# Age vs education qual\n",
        "plt.subplot(5,2,3)\n",
        "ax = sns.histplot(x = 'age',hue = 'education_qual',data = df)\n",
        "sns.move_legend(ax,\"upper right\",fontsize = 7)\n",
        "plt.title('Age Vs Education Qual',fontsize = 20)\n",
        "plt.xlabel('Age',fontsize = 16) \n",
        "plt.ylabel('Count',fontsize = 16) \n",
        "\n",
        "# Age vs call type\n",
        "plt.subplot(5,2,4)\n",
        "ax = sns.histplot(x = 'age',hue = 'call_type',data = df)\n",
        "sns.move_legend(ax,\"upper right\",fontsize = 7)\n",
        "plt.title('Age Vs Call Type',fontsize = 20)\n",
        "plt.xlabel('Age',fontsize = 16) \n",
        "plt.ylabel('Count',fontsize = 16) \n",
        "\n",
        "# Age vs day\n",
        "plt.subplot(5,2,5)\n",
        "sns.scatterplot(x ='day' ,y = 'duration',data = df)\n",
        "plt.title('Age Vs Dur',fontsize = 20)\n",
        "plt.xlabel('Age',fontsize = 16) \n",
        "plt.ylabel('Count',fontsize = 16) \n",
        "\n",
        "# Age vs num calls\n",
        "plt.subplot(5,2,6)\n",
        "sns.scatterplot(x ='day' ,y = 'num_calls',data = df)\n",
        "plt.title('Age Vs Number Of Calls',fontsize = 20)\n",
        "plt.xlabel('Age',fontsize = 16) \n",
        "plt.ylabel('Count',fontsize = 16) \n",
        "\n",
        "# Age vs previous outcome\n",
        "plt.subplot(5,2,7)\n",
        "ax = sns.histplot(x = 'age',hue = 'prev_outcome',data = df)\n",
        "sns.move_legend(ax,\"upper right\",fontsize = 7)\n",
        "plt.title('Age Vs Previous Outcome',fontsize = 20)\n",
        "plt.xlabel('Age',fontsize = 16) \n",
        "plt.ylabel('Count',fontsize = 16)\n",
        "\n",
        "\n",
        "plt.tight_layout()\n",
        "plt.show()\n",
        "\n"
      ],
      "metadata": {
        "id": "AXVXqnzLxNce"
      },
      "execution_count": null,
      "outputs": []
    },
    {
      "cell_type": "markdown",
      "source": [
        "\n",
        "\n",
        "Plotting of Numerical data vs Target\n",
        "\n",
        "Here we are plotting all our Numerical columns with target to figure out, is there any relation between numerical features column. Here we plot 2 type of numerical data:\n",
        "\n",
        "    Continous variable\n",
        "    discrete variable\n",
        "\n",
        "\n"
      ],
      "metadata": {
        "id": "xuHIbTYIyTc2"
      }
    },
    {
      "cell_type": "code",
      "source": [
        "plt.figure(figsize=(20, 10), dpi=150)\n",
        "plt.subplot(2,2,1)\n",
        "sns.histplot(x='age',hue='result',data=df)\n",
        "plt.title(\"Age Vs Target\",)\n",
        "plt.xlabel(\"AGE\")\n",
        "\n",
        "plt.subplot(2,2,2)\n",
        "sns.countplot(x='day',hue='result',data=df)\n",
        "plt.title(\"Day Vs Target\")\n",
        "plt.xlabel(\"DAY\")\n",
        "\n",
        "plt.subplot(2,2,3)\n",
        "sns.histplot(x='duration',hue='result',data=df)\n",
        "plt.title(\"Duration Vs Target\")\n",
        "plt.xlabel(\"DURATION OF CALL IN SEC\")\n",
        "\n",
        "plt.subplot(2,2,4)\n",
        "sns.countplot(x='num_calls',hue='result',data=df)\n",
        "plt.title(\"Num_calls Vs Target\")\n",
        "plt.xlabel(\"NO OF CALLS\")\n",
        "\n",
        "plt.suptitle(\"Numerical data Vs Target\", fontsize=18)  #suptitle to show title for overall plot \n",
        "plt.show()"
      ],
      "metadata": {
        "id": "0SaqkJYGxM3P"
      },
      "execution_count": null,
      "outputs": []
    },
    {
      "cell_type": "markdown",
      "source": [
        "\n",
        "\n",
        "INTERPRETATION:\n",
        "\n",
        "    AGE VS TARGET\n",
        "\n",
        "Categorical Columns\n",
        "\n",
        "Plotting of Categorical data vs Target\n",
        "\n",
        "From the above plot\n",
        "\n",
        "    we can see Blue collar JOb type person have been contacted the most and\n",
        "\n"
      ],
      "metadata": {
        "id": "GdmO7jLxyj4x"
      }
    },
    {
      "cell_type": "code",
      "source": [
        "plt.figure(figsize=(18,25), dpi=150)\n",
        "\n",
        "plt.subplot(3,3,1)\n",
        "sns.countplot(x='job',hue='result',data=df)\n",
        "plt.xticks(rotation=90)\n",
        "\n",
        "plt.subplot(3,3,2)\n",
        "sns.countplot(x='marital',hue='result',data=df)\n",
        "plt.xticks(rotation=90)\n",
        "\n",
        "plt.subplot(3,3,3)\n",
        "sns.countplot(x='education_qual',hue='result',data=df)\n",
        "plt.xticks(rotation=90)\n",
        "\n",
        "plt.subplot(3,3,4)\n",
        "sns.countplot(x='month',hue='result',data=df)\n",
        "plt.xticks(rotation=90)\n",
        "\n",
        "plt.subplot(3,3,5)\n",
        "sns.countplot(x='prev_outcome',hue='result',data=df)\n",
        "plt.xticks(rotation=90)\n",
        "\n",
        "plt.subplot(3,3,6)\n",
        "sns.countplot(x='call_type',hue='result',data=df)\n",
        "plt.xticks(rotation=90)\n",
        "\n",
        "plt.show()"
      ],
      "metadata": {
        "id": "9DVAQFCiylXB"
      },
      "execution_count": null,
      "outputs": []
    },
    {
      "cell_type": "markdown",
      "source": [
        "# Data Encoding\n"
      ],
      "metadata": {
        "id": "nBND67_pyw-5"
      }
    },
    {
      "cell_type": "code",
      "source": [
        "n_df = df.copy()\n",
        "\n",
        "n_df = pd.get_dummies(n_df,columns=['job'],drop_first=True)\n",
        "\n",
        "n_df['marital'] = n_df['marital'].map({'married':0,'single':1,'divorced':2})\n",
        "\n",
        "n_df['education_qual'] = n_df['education_qual'].map({'secondary':0,'primary':2,'tertiary':1,'unknown':3})\n",
        "\n",
        "n_df['call_type']= n_df['call_type'].map({'cellular':0,'unknown':1,'telephone':2})\n",
        "\n",
        "n_df = pd.get_dummies(n_df,columns=['month'],drop_first=True)\n",
        "\n",
        "n_df = pd.get_dummies(n_df,columns=['prev_outcome'],drop_first=True)\n",
        "\n",
        "n_df['result'] = n_df['result'].map({'no':0,'yes':1})\n",
        "\n",
        "n_df.head()\n",
        "\n"
      ],
      "metadata": {
        "id": "QB5T4QpSy08g"
      },
      "execution_count": null,
      "outputs": []
    },
    {
      "cell_type": "code",
      "source": [
        "X = n_df.drop('result',axis = 1)\n",
        "y = n_df['result']"
      ],
      "metadata": {
        "id": "snrwHTD8y-QC"
      },
      "execution_count": null,
      "outputs": []
    },
    {
      "cell_type": "markdown",
      "source": [
        "\n",
        "\n",
        "Splitting The data\n",
        "\n"
      ],
      "metadata": {
        "id": "4QnRfd7Qy_UJ"
      }
    },
    {
      "cell_type": "code",
      "source": [
        "from sklearn.model_selection import train_test_split\n",
        "X_train,X_test,y_train,y_test = train_test_split(X,y,test_size=0.2)\n",
        "\n"
      ],
      "metadata": {
        "id": "UBWAaF88zCia"
      },
      "execution_count": null,
      "outputs": []
    },
    {
      "cell_type": "markdown",
      "source": [
        "# Balance The Data And Model Building With Outliers Data\n"
      ],
      "metadata": {
        "id": "4ozCYmEzzIsO"
      }
    },
    {
      "cell_type": "code",
      "source": [
        "from imblearn.combine import SMOTETomek\n",
        "smt = SMOTETomek(sampling_strategy='all')\n",
        "X_train, y_train = smt.fit_resample(X_train, y_train)\n",
        "\n"
      ],
      "metadata": {
        "id": "lZWnjBeTzGQP"
      },
      "execution_count": null,
      "outputs": []
    },
    {
      "cell_type": "markdown",
      "source": [
        "# Data Scaling\n"
      ],
      "metadata": {
        "id": "Z7qq43stzP3g"
      }
    },
    {
      "cell_type": "code",
      "source": [
        "from sklearn.preprocessing import StandardScaler\n",
        "sc = StandardScaler()\n",
        "X_train = sc.fit_transform(X_train)\n",
        "X_test = sc.transform(X_test)\n",
        "\n",
        "# make scaler pickle file\n",
        "import pickle as pkl\n",
        "pkl.dump(sc,open('ccp_scaler.pkl','wb'))\n",
        "\n"
      ],
      "metadata": {
        "id": "2CD53hNjzPJe"
      },
      "execution_count": null,
      "outputs": []
    },
    {
      "cell_type": "markdown",
      "source": [
        "# LOGISTIC REGRESSION"
      ],
      "metadata": {
        "id": "kDAxuU7G0M_m"
      }
    },
    {
      "cell_type": "code",
      "source": [
        "from sklearn.linear_model import LogisticRegression\n",
        "from sklearn.metrics import accuracy_score\n",
        "lr = LogisticRegression()\n",
        "lr.fit(X_train,y_train)\n",
        "y_pred = lr.predict(X_test)\n",
        "\n",
        "log_score=accuracy_score(y_test,y_pred)\n",
        "log_score = round(log_score,2)\n",
        "log_score\n",
        "\n"
      ],
      "metadata": {
        "id": "PXD-XPY70FEh"
      },
      "execution_count": null,
      "outputs": []
    },
    {
      "cell_type": "markdown",
      "source": [
        "# KNN CLASSIFIER"
      ],
      "metadata": {
        "id": "GJncKdDx0Z1e"
      }
    },
    {
      "cell_type": "code",
      "source": [
        "from sklearn.neighbors import KNeighborsClassifier\n",
        "knn = KNeighborsClassifier()\n",
        "from sklearn.model_selection import GridSearchCV\n",
        "params_grid = {'n_neighbors' : [1,2,3,4,5,6,7,8,9,10,20]}\n",
        "greed_knn = GridSearchCV(knn,params_grid,cv = 10, n_jobs = 1)\n",
        "\n",
        "greed_knn.fit(X_train,y_train)\n",
        "y_pred = greed_knn.predict(X_test)\n",
        "knn_score = accuracy_score(y_test,y_pred)\n",
        "knn_score = round(knn_score,2)\n",
        "knn_score\n",
        "\n"
      ],
      "metadata": {
        "id": "RQmE7os-0EzK"
      },
      "execution_count": null,
      "outputs": []
    },
    {
      "cell_type": "markdown",
      "source": [
        "# Decision Tree\n"
      ],
      "metadata": {
        "id": "LxIfGedf963U"
      }
    },
    {
      "cell_type": "code",
      "source": [
        "from sklearn.tree import DecisionTreeClassifier\n",
        "dtc = DecisionTreeClassifier()\n",
        "params_grid = {'max_depth': [1,2,3,4,5,6,7,8,9,10,20]}\n",
        "greed_dtc = GridSearchCV(dtc,params_grid,cv = 10, n_jobs = 1)\n",
        "\n",
        "greed_dtc.fit(X_train,y_train)\n",
        "y_pred = greed_dtc.predict(X_test)\n",
        "dtc_score = accuracy_score(y_test,y_pred)\n",
        "dtc_score = round(dtc_score,2)\n",
        "dtc_score\n",
        "\n"
      ],
      "metadata": {
        "id": "rGXbqJZu0Euo"
      },
      "execution_count": null,
      "outputs": []
    },
    {
      "cell_type": "markdown",
      "source": [
        "# Random Forest "
      ],
      "metadata": {
        "id": "phnXE4FU-EC8"
      }
    },
    {
      "cell_type": "code",
      "source": [
        "from sklearn.ensemble import RandomForestClassifier\n",
        "rfc = RandomForestClassifier()\n",
        "params_grid = {'max_depth': [1,2,3,4,5,6,7,8,9,10,20]}\n",
        "greed_rfc = GridSearchCV(rfc,params_grid, cv = 10, n_jobs = 1)\n",
        "\n",
        "greed_rfc.fit(X_train,y_train)\n",
        "y_pred = greed_rfc.predict(X_test)\n",
        "rfc_score = accuracy_score(y_test,y_pred)\n",
        "rfc_score = round(rfc_score,2)\n",
        "rfc_score\n",
        "\n"
      ],
      "metadata": {
        "id": "-Iqn_gYr-M6K"
      },
      "execution_count": null,
      "outputs": []
    },
    {
      "cell_type": "markdown",
      "source": [
        "# XG Boost\n"
      ],
      "metadata": {
        "id": "5THQA8s7-T5o"
      }
    },
    {
      "cell_type": "code",
      "source": [
        "from xgboost import XGBClassifier\n",
        "xgb = XGBClassifier(n_estimators=100,verbosity = 0)\n",
        "params_grid = {'learning_rate' : [0.01,0.02,0.03,0.04,0.05,0.06,0.07,0.08,0.09,0.1,0.9,0.5,1]}\n",
        "greed_xgbc = GridSearchCV(xgb,params_grid,cv = 10, n_jobs = 1)\n",
        "\n",
        "greed_xgbc.fit(X_train,y_train)\n",
        "y_pred = greed_xgbc.predict(X_test)\n",
        "xgbc_score = accuracy_score(y_test,y_pred)\n",
        "xgbc_score = round(xgbc_score,2)\n",
        "xgbc_score\n",
        "\n"
      ],
      "metadata": {
        "id": "rww9eyeD-ZJ3"
      },
      "execution_count": null,
      "outputs": []
    },
    {
      "cell_type": "code",
      "source": [
        "performance=pd.DataFrame({\"Model\":[\"Logistic regression\",\"KNN\",\"Decision Tree\",\"Random Forest\",\"XGboost\"],\n",
        "                       \"accuracy score\":[log_score,knn_score,dtc_score,rfc_score,xgbc_score]})\n",
        "\n",
        "print(\"Models and their evaluations\")\n",
        "print(\"\\n\")\n",
        "performance.sort_values([\"accuracy score\"],ascending=False)\n",
        "\n"
      ],
      "metadata": {
        "id": "lnZeFYmI-c8p"
      },
      "execution_count": null,
      "outputs": []
    },
    {
      "cell_type": "markdown",
      "source": [
        "Models and their evaluations"
      ],
      "metadata": {
        "id": "rHEV6Fw3-f5K"
      }
    },
    {
      "cell_type": "markdown",
      "source": [
        "\n",
        "\n",
        "Random Forest Classifier Performing Better Than Others For This Dataset, So It Will Be The Final Model\n",
        "# Feature Importance By Random Forest Classifier"
      ],
      "metadata": {
        "id": "ZPc53jWO-s4_"
      }
    },
    {
      "cell_type": "code",
      "source": [
        "imp_features = pd.DataFrame({'Importance' : greed_rfc.best_estimator_.feature_importances_},index = X.columns)\n",
        "imp_features.Importance.sort_values(ascending=False) \n"
      ],
      "metadata": {
        "id": "QLNB4y-a-mZA"
      },
      "execution_count": null,
      "outputs": []
    },
    {
      "cell_type": "code",
      "source": [
        "pkl.dump(greed_rfc,open('ccp_rfc.pkl','wb'))"
      ],
      "metadata": {
        "id": "mfaMaTEt-5SM"
      },
      "execution_count": null,
      "outputs": []
    }
  ]
}